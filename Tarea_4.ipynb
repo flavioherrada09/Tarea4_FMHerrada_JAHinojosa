{
  "cells": [
    {
      "cell_type": "markdown",
      "metadata": {
        "id": "JepO2oglTJXx"
      },
      "source": [
        "<img style=\"float: left; margin: 30px 15px 15px 15px;\" src=\"https://encrypted-tbn0.gstatic.com/images?q=tbn:ANd9GcTFzQj91sOlkeDFkg5HDbjtR4QJYmLXkfMNig&usqp=CAU\" width=\"400\" height=\"500\" />\n",
        "    \n",
        "    \n",
        "### <font color='navy'> Modelos no lineales para pronósticos.\n",
        "\n",
        "**Nombres:**\n",
        "- Flavio Maximiliano Herrada Ávalos\n",
        "- Judith Alejandra Hinojosa Rábago\n",
        "\n",
        "**Fecha:** 7 de marzo del 2024.\n",
        "\n",
        "**Expediente** :\n",
        "- 741071\n",
        "- 737456\n",
        "\n",
        "**Profesor:** Oscar David Jaramillo Zuluaga.\n",
        "    \n",
        "**Link Github**: []()\n",
        "\n",
        "# Tarea 4: Clase 13"
      ]
    },
    {
      "cell_type": "markdown",
      "metadata": {
        "id": "wieJ_cVjTJX6"
      },
      "source": [
        "## Enunciado de tarea\n",
        "\n",
        "\n",
        "Tarea\n",
        "\n",
        "Implementar todas las técnicas vistas en esta clase al siguiente dataset para predecir el precio de las viviendas:\n",
        "\n",
        "[https://www.kaggle.com/datasets/yasserh/housing-prices-dataset](https://www.kaggle.com/datasets/yasserh/housing-prices-dataset)."
      ]
    },
    {
      "cell_type": "markdown",
      "metadata": {
        "id": "SzHpG8jxTJX_"
      },
      "source": [
        "### Ejercicio 1: Implementar todas las técnicas vistas."
      ]
    },
    {
      "cell_type": "markdown",
      "metadata": {
        "id": "hU9yh2FRTJYM"
      },
      "source": [
        "#### Estudiante 1: Flavio Maximiliano Herrada Ávalos"
      ]
    },
    {
      "cell_type": "code",
      "execution_count": null,
      "metadata": {
        "id": "XXbX70NqTJYH"
      },
      "outputs": [],
      "source": [
        "# Código de solución estudiante 1\n",
        ".\n",
        ".\n",
        ".\n",
        ".\n"
      ]
    },
    {
      "cell_type": "markdown",
      "metadata": {
        "id": "bwxL05EUTJYD"
      },
      "source": [
        "#### Estudiante 2: Judith Alejandra Hinojosa Rábago"
      ]
    },
    {
      "cell_type": "code",
      "execution_count": null,
      "metadata": {
        "id": "Ynaflv0UTJYP"
      },
      "outputs": [],
      "source": [
        "# Código de solución estudiante 2\n",
        ".\n",
        ".\n",
        ".\n",
        ".\n"
      ]
    }
  ],
  "metadata": {
    "kernelspec": {
      "display_name": "Python 3 (ipykernel)",
      "language": "python",
      "name": "python3"
    },
    "language_info": {
      "codemirror_mode": {
        "name": "ipython",
        "version": 3
      },
      "file_extension": ".py",
      "mimetype": "text/x-python",
      "name": "python",
      "nbconvert_exporter": "python",
      "pygments_lexer": "ipython3",
      "version": "3.9.12"
    },
    "colab": {
      "provenance": []
    }
  },
  "nbformat": 4,
  "nbformat_minor": 0
}